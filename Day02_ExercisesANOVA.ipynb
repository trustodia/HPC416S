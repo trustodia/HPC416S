{
 "cells": [
  {
   "cell_type": "markdown",
   "metadata": {},
   "source": [
    "### Example  \n",
    "\n",
    "Read in the file \"Rhizobium.csv\"  \n",
    "\n",
    "For each column (i), we need to compute\n",
    "1. Sum:  $\\sum_{j}{} Y_{ij} = Y_{i\\cdot}$ \n",
    "2. Sum of squares: $\\sum_{j}{} Y_{i,j}^2$   \n",
    "3. Squared sum divided by r (replicates): $\\large\\frac{(Y_{i\\cdot})^2}{r}$\n",
    "4. Sum of squared deviants: $\\sum_{j}(Y_{ij} - \\bar Y_{i\\cdot})^2$  \n",
    "5. Mean:  $\\bar Y_{i\\cdot}$"
   ]
  },
  {
   "cell_type": "code",
   "execution_count": 13,
   "metadata": {},
   "outputs": [],
   "source": [
    "import pandas as pd\n",
    "import numpy as np\n",
    "from scipy.stats import f\n",
    "\n",
    "aovData =  pd.read_csv('static/Data/Rhizobium.csv')"
   ]
  },
  {
   "cell_type": "code",
   "execution_count": 14,
   "metadata": {},
   "outputs": [
    {
     "data": {
      "text/html": [
       "<div>\n",
       "<style scoped>\n",
       "    .dataframe tbody tr th:only-of-type {\n",
       "        vertical-align: middle;\n",
       "    }\n",
       "\n",
       "    .dataframe tbody tr th {\n",
       "        vertical-align: top;\n",
       "    }\n",
       "\n",
       "    .dataframe thead th {\n",
       "        text-align: right;\n",
       "    }\n",
       "</style>\n",
       "<table border=\"1\" class=\"dataframe\">\n",
       "  <thead>\n",
       "    <tr style=\"text-align: right;\">\n",
       "      <th></th>\n",
       "      <th>3DOk1</th>\n",
       "      <th>3DOk5</th>\n",
       "      <th>3DOk4</th>\n",
       "      <th>3DOk7</th>\n",
       "      <th>3D0k13</th>\n",
       "      <th>Composite</th>\n",
       "    </tr>\n",
       "  </thead>\n",
       "  <tbody>\n",
       "    <tr>\n",
       "      <th>Sum</th>\n",
       "      <td>0.0</td>\n",
       "      <td>0.0</td>\n",
       "      <td>0.0</td>\n",
       "      <td>0.0</td>\n",
       "      <td>0.0</td>\n",
       "      <td>0.0</td>\n",
       "    </tr>\n",
       "    <tr>\n",
       "      <th>SS</th>\n",
       "      <td>0.0</td>\n",
       "      <td>0.0</td>\n",
       "      <td>0.0</td>\n",
       "      <td>0.0</td>\n",
       "      <td>0.0</td>\n",
       "      <td>0.0</td>\n",
       "    </tr>\n",
       "    <tr>\n",
       "      <th>SqSums</th>\n",
       "      <td>0.0</td>\n",
       "      <td>0.0</td>\n",
       "      <td>0.0</td>\n",
       "      <td>0.0</td>\n",
       "      <td>0.0</td>\n",
       "      <td>0.0</td>\n",
       "    </tr>\n",
       "    <tr>\n",
       "      <th>SqDev</th>\n",
       "      <td>0.0</td>\n",
       "      <td>0.0</td>\n",
       "      <td>0.0</td>\n",
       "      <td>0.0</td>\n",
       "      <td>0.0</td>\n",
       "      <td>0.0</td>\n",
       "    </tr>\n",
       "    <tr>\n",
       "      <th>Mean</th>\n",
       "      <td>0.0</td>\n",
       "      <td>0.0</td>\n",
       "      <td>0.0</td>\n",
       "      <td>0.0</td>\n",
       "      <td>0.0</td>\n",
       "      <td>0.0</td>\n",
       "    </tr>\n",
       "  </tbody>\n",
       "</table>\n",
       "</div>"
      ],
      "text/plain": [
       "        3DOk1  3DOk5  3DOk4  3DOk7  3D0k13  Composite\n",
       "Sum       0.0    0.0    0.0    0.0     0.0        0.0\n",
       "SS        0.0    0.0    0.0    0.0     0.0        0.0\n",
       "SqSums    0.0    0.0    0.0    0.0     0.0        0.0\n",
       "SqDev     0.0    0.0    0.0    0.0     0.0        0.0\n",
       "Mean      0.0    0.0    0.0    0.0     0.0        0.0"
      ]
     },
     "execution_count": 14,
     "metadata": {},
     "output_type": "execute_result"
    }
   ],
   "source": [
    "# Create a container for the results \n",
    "aovRes=pd.DataFrame(np.zeros(shape=(5,6)))\n",
    "aovRes.columns = aovData.columns\n",
    "aovRes.index = ['Sum','SS','SqSums','SqDev','Mean']\n",
    "aovRes"
   ]
  },
  {
   "cell_type": "code",
   "execution_count": 15,
   "metadata": {},
   "outputs": [
    {
     "name": "stdout",
     "output_type": "stream",
     "text": [
      "3DOk1\n",
      "3DOk5\n",
      "3DOk4\n",
      "3DOk7\n",
      "3D0k13\n",
      "Composite\n"
     ]
    },
    {
     "data": {
      "text/html": [
       "<div>\n",
       "<style scoped>\n",
       "    .dataframe tbody tr th:only-of-type {\n",
       "        vertical-align: middle;\n",
       "    }\n",
       "\n",
       "    .dataframe tbody tr th {\n",
       "        vertical-align: top;\n",
       "    }\n",
       "\n",
       "    .dataframe thead th {\n",
       "        text-align: right;\n",
       "    }\n",
       "</style>\n",
       "<table border=\"1\" class=\"dataframe\">\n",
       "  <thead>\n",
       "    <tr style=\"text-align: right;\">\n",
       "      <th></th>\n",
       "      <th>3DOk1</th>\n",
       "      <th>3DOk5</th>\n",
       "      <th>3DOk4</th>\n",
       "      <th>3DOk7</th>\n",
       "      <th>3D0k13</th>\n",
       "      <th>Composite</th>\n",
       "    </tr>\n",
       "  </thead>\n",
       "  <tbody>\n",
       "    <tr>\n",
       "      <th>Sum</th>\n",
       "      <td>144.100</td>\n",
       "      <td>119.900</td>\n",
       "      <td>73.200</td>\n",
       "      <td>99.600</td>\n",
       "      <td>66.300</td>\n",
       "      <td>93.50</td>\n",
       "    </tr>\n",
       "    <tr>\n",
       "      <th>SS</th>\n",
       "      <td>4287.530</td>\n",
       "      <td>2932.270</td>\n",
       "      <td>1139.420</td>\n",
       "      <td>1989.140</td>\n",
       "      <td>887.290</td>\n",
       "      <td>1758.71</td>\n",
       "    </tr>\n",
       "    <tr>\n",
       "      <th>SqSums</th>\n",
       "      <td>4152.962</td>\n",
       "      <td>2875.202</td>\n",
       "      <td>1071.648</td>\n",
       "      <td>1984.032</td>\n",
       "      <td>879.138</td>\n",
       "      <td>1748.45</td>\n",
       "    </tr>\n",
       "    <tr>\n",
       "      <th>SqDev</th>\n",
       "      <td>134.568</td>\n",
       "      <td>57.068</td>\n",
       "      <td>67.772</td>\n",
       "      <td>5.108</td>\n",
       "      <td>8.152</td>\n",
       "      <td>10.26</td>\n",
       "    </tr>\n",
       "    <tr>\n",
       "      <th>Mean</th>\n",
       "      <td>28.820</td>\n",
       "      <td>23.980</td>\n",
       "      <td>14.640</td>\n",
       "      <td>19.920</td>\n",
       "      <td>13.260</td>\n",
       "      <td>18.70</td>\n",
       "    </tr>\n",
       "  </tbody>\n",
       "</table>\n",
       "</div>"
      ],
      "text/plain": [
       "           3DOk1     3DOk5     3DOk4     3DOk7   3D0k13  Composite\n",
       "Sum      144.100   119.900    73.200    99.600   66.300      93.50\n",
       "SS      4287.530  2932.270  1139.420  1989.140  887.290    1758.71\n",
       "SqSums  4152.962  2875.202  1071.648  1984.032  879.138    1748.45\n",
       "SqDev    134.568    57.068    67.772     5.108    8.152      10.26\n",
       "Mean      28.820    23.980    14.640    19.920   13.260      18.70"
      ]
     },
     "execution_count": 15,
     "metadata": {},
     "output_type": "execute_result"
    }
   ],
   "source": [
    "# Compute the row statistics\n",
    "#########\n",
    "# We need the row count, no need to recompute\n",
    "\n",
    "nrow = aovData.shape[0]\n",
    "ncol = aovData.shape[1]\n",
    "\n",
    "for column in aovData.columns:\n",
    "    print(column)\n",
    "    aovRes.loc[['Sum'],[column]]    = aovData[column].sum()\n",
    "    aovRes.loc[['SS'],[column]]     = sum(aovData[column]**2)\n",
    "    aovRes.loc[['SqSums'],[column]] = aovData[column].sum()**2/nrow\n",
    "    aovRes.loc[['SqDev'],[column]]  = sum((aovData[column]-aovData[column].mean())**2)\n",
    "    aovRes.loc[['Mean'],[column]]   = aovData[column].mean()\n",
    "      \n",
    "aovRes "
   ]
  },
  {
   "cell_type": "code",
   "execution_count": 16,
   "metadata": {
    "scrolled": true
   },
   "outputs": [
    {
     "data": {
      "text/html": [
       "<div>\n",
       "<style scoped>\n",
       "    .dataframe tbody tr th:only-of-type {\n",
       "        vertical-align: middle;\n",
       "    }\n",
       "\n",
       "    .dataframe tbody tr th {\n",
       "        vertical-align: top;\n",
       "    }\n",
       "\n",
       "    .dataframe thead th {\n",
       "        text-align: right;\n",
       "    }\n",
       "</style>\n",
       "<table border=\"1\" class=\"dataframe\">\n",
       "  <thead>\n",
       "    <tr style=\"text-align: right;\">\n",
       "      <th></th>\n",
       "      <th>3DOk1</th>\n",
       "      <th>3DOk5</th>\n",
       "      <th>3DOk4</th>\n",
       "      <th>3DOk7</th>\n",
       "      <th>3D0k13</th>\n",
       "      <th>Composite</th>\n",
       "      <th>Total</th>\n",
       "    </tr>\n",
       "  </thead>\n",
       "  <tbody>\n",
       "    <tr>\n",
       "      <th>Sum</th>\n",
       "      <td>144.100</td>\n",
       "      <td>119.900</td>\n",
       "      <td>73.200</td>\n",
       "      <td>99.600</td>\n",
       "      <td>66.300</td>\n",
       "      <td>93.50</td>\n",
       "      <td>596.600</td>\n",
       "    </tr>\n",
       "    <tr>\n",
       "      <th>SS</th>\n",
       "      <td>4287.530</td>\n",
       "      <td>2932.270</td>\n",
       "      <td>1139.420</td>\n",
       "      <td>1989.140</td>\n",
       "      <td>887.290</td>\n",
       "      <td>1758.71</td>\n",
       "      <td>12994.360</td>\n",
       "    </tr>\n",
       "    <tr>\n",
       "      <th>SqSums</th>\n",
       "      <td>4152.962</td>\n",
       "      <td>2875.202</td>\n",
       "      <td>1071.648</td>\n",
       "      <td>1984.032</td>\n",
       "      <td>879.138</td>\n",
       "      <td>1748.45</td>\n",
       "      <td>12711.432</td>\n",
       "    </tr>\n",
       "    <tr>\n",
       "      <th>SqDev</th>\n",
       "      <td>134.568</td>\n",
       "      <td>57.068</td>\n",
       "      <td>67.772</td>\n",
       "      <td>5.108</td>\n",
       "      <td>8.152</td>\n",
       "      <td>10.26</td>\n",
       "      <td>282.928</td>\n",
       "    </tr>\n",
       "    <tr>\n",
       "      <th>Mean</th>\n",
       "      <td>28.820</td>\n",
       "      <td>23.980</td>\n",
       "      <td>14.640</td>\n",
       "      <td>19.920</td>\n",
       "      <td>13.260</td>\n",
       "      <td>18.70</td>\n",
       "      <td>119.320</td>\n",
       "    </tr>\n",
       "  </tbody>\n",
       "</table>\n",
       "</div>"
      ],
      "text/plain": [
       "           3DOk1     3DOk5     3DOk4     3DOk7   3D0k13  Composite      Total\n",
       "Sum      144.100   119.900    73.200    99.600   66.300      93.50    596.600\n",
       "SS      4287.530  2932.270  1139.420  1989.140  887.290    1758.71  12994.360\n",
       "SqSums  4152.962  2875.202  1071.648  1984.032  879.138    1748.45  12711.432\n",
       "SqDev    134.568    57.068    67.772     5.108    8.152      10.26    282.928\n",
       "Mean      28.820    23.980    14.640    19.920   13.260      18.70    119.320"
      ]
     },
     "execution_count": 16,
     "metadata": {},
     "output_type": "execute_result"
    }
   ],
   "source": [
    "# Compute the row totals in aovRes\n",
    "\n",
    "# add a column titled 'Total'\n",
    "aovRes['Total']=0\n",
    "\n",
    "aovRes['Total']=aovRes.sum(axis=1)\n",
    "    \n",
    "aovRes"
   ]
  },
  {
   "cell_type": "markdown",
   "metadata": {},
   "source": [
    "### Compute the different SS statistics\n",
    "\n",
    "#### First: CF (C)\n",
    "$$ CF = \\frac{Y_{\\cdot\\cdot}^2}{rt} = \\frac{(\\sum_{i,j}Y_{i,j})^2}{rt} $$"
   ]
  },
  {
   "cell_type": "code",
   "execution_count": 17,
   "metadata": {},
   "outputs": [],
   "source": [
    "# The term above the line contains the row total of 'Sum'\n",
    "\n",
    "\n",
    "CF = (aovRes.loc[['Sum'],['Total']]**2/ (nrow*ncol)).iloc[0]\n"
   ]
  },
  {
   "cell_type": "markdown",
   "metadata": {},
   "source": [
    "#### Next SStot\n",
    "\n",
    "$$ \\large SS(total) = \\sum_{i,j} Y_{i,j}^2 - CF $$"
   ]
  },
  {
   "cell_type": "code",
   "execution_count": 18,
   "metadata": {},
   "outputs": [],
   "source": [
    "SStot = (aovRes.loc[['SS'],['Total']]).iloc[0] - CF \n"
   ]
  },
  {
   "cell_type": "markdown",
   "metadata": {},
   "source": [
    "#### Next SStreat\n",
    "\n",
    "$$\\large SS(treatment) = \\frac{ \\sum\\limits_{i=1}^{t} Y_{i,\\cdot}^2}{r} - CF$$  \n",
    "$$= \\frac{Y_{1\\cdot}^2 + Y_{2\\cdot}^2+\\cdots + Y_{t\\cdot}^2} {r} - CF$$  "
   ]
  },
  {
   "cell_type": "code",
   "execution_count": 19,
   "metadata": {},
   "outputs": [],
   "source": [
    "sumR = (aovRes.loc[['Sum'],aovRes.columns.difference(['Total'])]).iloc[0]\n",
    "SStreat = ( np.sum( sumR**2) / nrow) - CF"
   ]
  },
  {
   "cell_type": "markdown",
   "metadata": {},
   "source": [
    "#### Last, SSerror\n",
    "\n",
    "$$\\large SS(error) = \\sum\\limits_{i}{} (\\sum\\limits_{j}{}Y_{ij}^2-\\frac{Y_{i\\cdot}^2}{r})$$\n",
    "\n",
    "This is aovResult\\['SqDev'\\]\\['Total'\\]"
   ]
  },
  {
   "cell_type": "code",
   "execution_count": 20,
   "metadata": {},
   "outputs": [],
   "source": [
    "SSerr = (aovRes.loc[['SqDev'],['Total']]).iloc[0]"
   ]
  },
  {
   "cell_type": "markdown",
   "metadata": {},
   "source": [
    "#### Summarize what we have"
   ]
  },
  {
   "cell_type": "code",
   "execution_count": 21,
   "metadata": {},
   "outputs": [
    {
     "name": "stdout",
     "output_type": "stream",
     "text": [
      "CF is:        11864.39\n",
      "SStot is:      1129.97\n",
      "SStreat is:     847.05\n",
      "SSerr is:       282.93\n"
     ]
    }
   ],
   "source": [
    "print(\"CF is:      %10.2f\" % (CF) )\n",
    "print(\"SStot is:   %10.2f\" % (SStot) )\n",
    "print(\"SStreat is: %10.2f\" % (SStreat) )\n",
    "print(\"SSerr is:   %10.2f\" % (SSerr) )"
   ]
  },
  {
   "cell_type": "markdown",
   "metadata": {},
   "source": [
    "#### Compute the F and interpret\n",
    "- df among is $N_{treat} - 1 = t-1$\n",
    "- df between is $(N_{treat}(N_{rep} - 1) = t(r-1)$\n",
    "- df total is $N_{treat}*N{rep} -1 = rt -1$\n",
    "  \n",
    "Mean square is SS/df for the row \n",
    "  \n",
    "F is the ratio of mean square among &div;  mean square within\n",
    "- $F = \\frac{SS_{between}}{SS_{within}}$"
   ]
  },
  {
   "cell_type": "code",
   "execution_count": 22,
   "metadata": {},
   "outputs": [
    {
     "name": "stdout",
     "output_type": "stream",
     "text": [
      "The F for the ANOVA is:  14.3705\n",
      "and the P-value is:       0.0038\n"
     ]
    }
   ],
   "source": [
    "# \n",
    "F =  (SStreat/(ncol-1))/(SSerr/(ncol*(nrow-1)))\n",
    "print(\"The F for the ANOVA is: %8.4f\\nand the P-value is:       %6.4f\" \\\n",
    "      % (F,f.sf(F,dfd=(ncol-1),dfn=(ncol*(nrow-1)))))"
   ]
  }
 ],
 "metadata": {
  "kernelspec": {
   "display_name": "Python 3",
   "language": "python",
   "name": "python3"
  },
  "language_info": {
   "codemirror_mode": {
    "name": "ipython",
    "version": 3
   },
   "file_extension": ".py",
   "mimetype": "text/x-python",
   "name": "python",
   "nbconvert_exporter": "python",
   "pygments_lexer": "ipython3",
   "version": "3.5.2"
  }
 },
 "nbformat": 4,
 "nbformat_minor": 2
}
